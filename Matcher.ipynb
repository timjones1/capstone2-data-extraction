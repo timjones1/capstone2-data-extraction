{
 "cells": [
  {
   "cell_type": "markdown",
   "metadata": {},
   "source": [
    "### Wavelength - Testing a Rule based approach with Spacy Entity Ruler and Matcher "
   ]
  },
  {
   "cell_type": "code",
   "execution_count": 1,
   "metadata": {},
   "outputs": [],
   "source": [
    "import spacy\n",
    "from spacy.matcher import Matcher\n",
    "from spacy.pipeline import EntityRuler\n",
    "from spacy.tokens import Token, Span, Doc\n",
    "from spacy import displacy\n",
    "from openpyxl import load_workbook\n",
    "import numpy as np\n",
    "import pandas as pd\n",
    "from dateutil import parser\n",
    "import wavefunctions as wf\n",
    "import re"
   ]
  },
  {
   "cell_type": "code",
   "execution_count": 2,
   "metadata": {},
   "outputs": [],
   "source": [
    "BASE_DATE = \"13th October 2019 \"\n",
    "Doc.set_extension(\"specified_days\",getter=wf.get_days_per_week_new)\n",
    "Span.set_extension(\"saved_days\",default=0)\n",
    "Span.set_extension(\"previous_ent\",default=0)\n",
    "Span.set_extension(\"next_ent\",default=0)"
   ]
  },
  {
   "cell_type": "code",
   "execution_count": 3,
   "metadata": {},
   "outputs": [],
   "source": [
    "nlp = spacy.load('en_core_web_sm')"
   ]
  },
  {
   "cell_type": "code",
   "execution_count": 4,
   "metadata": {},
   "outputs": [],
   "source": [
    "train_raw = pd.read_excel('data\\Employee Train.xlsx',sheet_name=\"Training Dataset\")"
   ]
  },
  {
   "cell_type": "code",
   "execution_count": 5,
   "metadata": {},
   "outputs": [],
   "source": [
    "times_extract = train_raw['Times [Extract]']\n",
    "times_extract.columns = [\"text\"]"
   ]
  },
  {
   "cell_type": "markdown",
   "metadata": {},
   "source": [
    "Define Entity Ruler Patterns"
   ]
  },
  {
   "cell_type": "code",
   "execution_count": 6,
   "metadata": {},
   "outputs": [],
   "source": [
    "#Entity Ruler Patterns\n",
    "\n",
    "patterns = [{\"label\" : \"TIMES\", \n",
    "             \"pattern\" : [# {\"LOWER\" : {\"IN\" : [\"monday\",\"tuesday\",\"wednesday\",\"thursday\",\"friday\",\"saturday\",\"sunday\"]}, \n",
    "                          #  \"OP\" : \"?\"},\n",
    "                          {\"IS_PUNCT\" : True, \"OP\" : \"?\"},            \n",
    "                          {\"TEXT\" : {\"REGEX\" : \"\\w?\\d+\\w?[.:]?\\w\\d+\\w?\"}},\n",
    "                          # {\"SHAPE\" : {\"IN\" :[\"dddd\",\"ddd\",\"d:dd\",\"d:ddxx\",\"dd:dx\",\"dd:dd\",\"dd:ddxx\",\n",
    "                          #                    \"dd:ddxxx\",\"d.dd\",\"d.ddxx\",\"dd.dx\",\"dd.dd\",\"dd.ddxx\",\n",
    "                          #                    \"dd.ddxxx\"]}},\n",
    "                          {\"LOWER\" : {\"IN\" : [\"to\", \"-\"]}},\n",
    "                          {\"TEXT\" : {\"REGEX\" : \"\\d+[.:]?\\d+\\w+\"}}],\n",
    "             \"id\" : \"hours_range\"},\n",
    "            \n",
    "            {\"label\" : \"DATE\", \n",
    "             \"pattern\" : [{\"LOWER\" : {\"IN\" : [\"monday\", \"tuesday\", \"wednesday\",\"thursday\",\"friday\",\n",
    "                                              \"saturday\",\"sunday\"]}},\n",
    "                          {\"LOWER\" : {\"IN\" : [\"to\", \"-\"]}},\n",
    "                          {\"LOWER\" : {\"IN\" : [\"monday\", \"tuesday\", \"wednesday\",\"thursday\",\"friday\",\n",
    "                                              \"saturday\",\"sunday\"]}}],\n",
    "             \"id\" : \"days_range\"},\n",
    "            \n",
    "            {\"label\" : \"DATE\",\n",
    "             \"pattern\" : [{\"LIKE_NUM\" : True},\n",
    "                          {\"LOWER\" : {\"IN\" : [\"hour\",\"hours\"]}},\n",
    "                          {\"IS_ALPHA\" : True, \"OP\" : \"?\"},\n",
    "                          {\"LOWER\" : \"lunch\"}],\n",
    "             \"id\" : \"lunch_break\"},\n",
    "            {\"label\" : \"DATE\",\n",
    "             \"pattern\" : [{\"LIKE_NUM\" : True},\n",
    "                          {\"LOWER\" : {\"IN\" : [\"day\",\"days\"]}}],\n",
    "             \"id\" : \"days_worked\"}\n",
    "           ]"
   ]
  },
  {
   "cell_type": "markdown",
   "metadata": {},
   "source": [
    "Patterns for Spacy Matcher"
   ]
  },
  {
   "cell_type": "code",
   "execution_count": 7,
   "metadata": {},
   "outputs": [],
   "source": [
    "\n",
    "\n",
    "hours_pattern = [#{\"LOWER\" : {\"IN\" : [\"monday\",\"tuesday\",\"wednesday\",\"thursday\",\"friday\",\"saturday\",\"sunday\"]}, \n",
    "                 #          \"OP\" : \"?\"},\n",
    "                 #         {\"IS_PUNCT\" : True, \"OP\" : \"?\"},            \n",
    "                          {\"TEXT\" : {\"REGEX\" : \"\\w?\\d+\\w?[.:]?\\w\\d+\\w?\"}},\n",
    "                          {\"LOWER\" : {\"IN\" : [\"to\", \"-\"]}},\n",
    "                          {\"TEXT\" : {\"REGEX\" : \"\\d+[.:]?\\d+\\w+\"}}]\n",
    "\n",
    "days_pattern = [{\"LOWER\" : {\"IN\" : [\"monday\", \"tuesday\", \"wednesday\",\"thursday\",\"friday\",\"saturday\",\"sunday\"]}},\n",
    "               {\"LOWER\" : {\"IN\" : [\"to\", \"-\"]}},\n",
    "               {\"LOWER\" : {\"IN\" : [\"monday\", \"tuesday\", \"wednesday\",\"thursday\",\"friday\",\"saturday\",\"sunday\"]}}] \n",
    "                \n",
    "lunch_pattern = [{\"LIKE_NUM\" : True},\n",
    "                          {\"LOWER\" : {\"IN\" : [\"hour\",\"hours\"]}},\n",
    "                          {\"IS_ALPHA\" : True, \"OP\" : \"?\"},\n",
    "                          {\"LOWER\" : \"lunch\"}]\n",
    "\n",
    "work_pattern = [{\"LIKE_NUM\" : True},\n",
    "                          {\"LOWER\" : {\"IN\" : [\"day\",\"days\"]}}]\n",
    "\n",
    "    \n",
    "patterns = [{\"label\" : \"TIMES\", \n",
    "             \"pattern\" : [        \n",
    "                          {\"TEXT\" : {\"REGEX\" : \"\\w?\\d+\\w?[.:]?\\w\\d+\\w?\"}},\n",
    "                          {\"LOWER\" : {\"IN\" : [\"to\", \"-\"]}},\n",
    "                          {\"TEXT\" : {\"REGEX\" : \"\\d+[.:]?\\d+\\w+\"}}],\n",
    "             \"id\" : \"hours_range\"},\n",
    "            \n",
    "            {\"label\" : \"DATE\", \n",
    "             \"pattern\" : [{\"LOWER\" : {\"IN\" : [\"monday\", \"tuesday\", \"wednesday\",\"thursday\",\"friday\",\n",
    "                                              \"saturday\",\"sunday\"]}},\n",
    "                          {\"LOWER\" : {\"IN\" : [\"to\", \"-\"]}},\n",
    "                          {\"LOWER\" : {\"IN\" : [\"monday\", \"tuesday\", \"wednesday\",\"thursday\",\"friday\",\n",
    "                                              \"saturday\",\"sunday\"]}}],\n",
    "             \"id\" : \"days_range\"},\n",
    "            \n",
    "            {\"label\" : \"DATE\",\n",
    "             \"pattern\" : [{\"LIKE_NUM\" : True},\n",
    "                          {\"LOWER\" : {\"IN\" : [\"hour\",\"hours\"]}},\n",
    "                          {\"IS_ALPHA\" : True, \"OP\" : \"?\"},\n",
    "                          {\"LOWER\" : \"lunch\"}],\n",
    "             \"id\" : \"lunch_break\"},\n",
    "            {\"label\" : \"DATE\",\n",
    "             \"pattern\" : [{\"LIKE_NUM\" : True},\n",
    "                          {\"LOWER\" : {\"IN\" : [\"day\",\"days\"]}}],\n",
    "             \"id\" : \"days_worked\"}\n",
    "           ]"
   ]
  },
  {
   "cell_type": "markdown",
   "metadata": {},
   "source": [
    "Create entity ruler for custom entity recognition"
   ]
  },
  {
   "cell_type": "code",
   "execution_count": 8,
   "metadata": {},
   "outputs": [],
   "source": [
    "ruler = EntityRuler(nlp)\n",
    "ruler.add_patterns(patterns)\n",
    "nlp.add_pipe(ruler,before='ner')"
   ]
  },
  {
   "cell_type": "markdown",
   "metadata": {},
   "source": [
    "Testing"
   ]
  },
  {
   "cell_type": "code",
   "execution_count": 9,
   "metadata": {},
   "outputs": [],
   "source": [
    "docs = nlp.pipe(times_extract)"
   ]
  },
  {
   "cell_type": "code",
   "execution_count": 10,
   "metadata": {},
   "outputs": [],
   "source": [
    "temp_doc = nlp(train_raw['Times [Extract]'][3])"
   ]
  },
  {
   "cell_type": "code",
   "execution_count": 11,
   "metadata": {},
   "outputs": [
    {
     "data": {
      "text/plain": [
       "6.1 Your normal working hours are 08.45 to 17.45 with breaks, and a one hour lunch break 3 days a week."
      ]
     },
     "execution_count": 11,
     "metadata": {},
     "output_type": "execute_result"
    }
   ],
   "source": [
    "temp_doc"
   ]
  },
  {
   "cell_type": "code",
   "execution_count": 12,
   "metadata": {},
   "outputs": [
    {
     "name": "stdout",
     "output_type": "stream",
     "text": [
      "6.1 CARDINAL\n",
      "normal working hours TIME\n",
      "08.45 to 17.45 TIMES\n",
      "one hour lunch DATE\n",
      "3 days DATE\n"
     ]
    },
    {
     "data": {
      "text/plain": [
       "[None, None, None, None, None]"
      ]
     },
     "execution_count": 12,
     "metadata": {},
     "output_type": "execute_result"
    }
   ],
   "source": [
    "[print(e,e.label_) for e in temp_doc.ents] # issues with ents"
   ]
  },
  {
   "cell_type": "code",
   "execution_count": 13,
   "metadata": {},
   "outputs": [],
   "source": [
    "prev_ent = 0\n",
    "next_ent = 1\n",
    "for e in temp_doc.ents:\n",
    "    e._.previous_ent = prev_ent\n",
    "    e._.next_ent = next_ent\n",
    "    prev_ent += 1\n",
    "    next_ent += 1\n",
    "    \n",
    "    "
   ]
  },
  {
   "cell_type": "code",
   "execution_count": 14,
   "metadata": {},
   "outputs": [
    {
     "name": "stderr",
     "output_type": "stream",
     "text": [
      "C:\\Users\\timjo\\Anaconda3\\envs\\wave\\lib\\site-packages\\spacy\\displacy\\__init__.py:94: UserWarning: [W011] It looks like you're calling displacy.serve from within a Jupyter notebook or a similar environment. This likely means you're already running a local web server, so there's no need to make displaCy start another one. Instead, you should be able to replace displacy.serve with displacy.render to show the visualization.\n",
      "  warnings.warn(Warnings.W011)\n"
     ]
    },
    {
     "data": {
      "text/html": [
       "<span class=\"tex2jax_ignore\"><!DOCTYPE html>\n",
       "<html lang=\"en\">\n",
       "    <head>\n",
       "        <title>displaCy</title>\n",
       "    </head>\n",
       "\n",
       "    <body style=\"font-size: 16px; font-family: -apple-system, BlinkMacSystemFont, 'Segoe UI', Helvetica, Arial, sans-serif, 'Apple Color Emoji', 'Segoe UI Emoji', 'Segoe UI Symbol'; padding: 4rem 2rem; direction: ltr\">\n",
       "<figure style=\"margin-bottom: 6rem\">\n",
       "<svg xmlns=\"http://www.w3.org/2000/svg\" xmlns:xlink=\"http://www.w3.org/1999/xlink\" xml:lang=\"en\" id=\"85efc29c07074ac4b16c95ffddf790c3-0\" class=\"displacy\" width=\"3725\" height=\"662.0\" direction=\"ltr\" style=\"max-width: none; height: 662.0px; color: #000000; background: #ffffff; font-family: Arial; direction: ltr\">\n",
       "<text class=\"displacy-token\" fill=\"currentColor\" text-anchor=\"middle\" y=\"572.0\">\n",
       "    <tspan class=\"displacy-word\" fill=\"currentColor\" x=\"50\">6.1</tspan>\n",
       "    <tspan class=\"displacy-tag\" dy=\"2em\" fill=\"currentColor\" x=\"50\">NUM</tspan>\n",
       "</text>\n",
       "\n",
       "<text class=\"displacy-token\" fill=\"currentColor\" text-anchor=\"middle\" y=\"572.0\">\n",
       "    <tspan class=\"displacy-word\" fill=\"currentColor\" x=\"225\">Your</tspan>\n",
       "    <tspan class=\"displacy-tag\" dy=\"2em\" fill=\"currentColor\" x=\"225\">DET</tspan>\n",
       "</text>\n",
       "\n",
       "<text class=\"displacy-token\" fill=\"currentColor\" text-anchor=\"middle\" y=\"572.0\">\n",
       "    <tspan class=\"displacy-word\" fill=\"currentColor\" x=\"400\">normal</tspan>\n",
       "    <tspan class=\"displacy-tag\" dy=\"2em\" fill=\"currentColor\" x=\"400\">ADJ</tspan>\n",
       "</text>\n",
       "\n",
       "<text class=\"displacy-token\" fill=\"currentColor\" text-anchor=\"middle\" y=\"572.0\">\n",
       "    <tspan class=\"displacy-word\" fill=\"currentColor\" x=\"575\">working</tspan>\n",
       "    <tspan class=\"displacy-tag\" dy=\"2em\" fill=\"currentColor\" x=\"575\">NOUN</tspan>\n",
       "</text>\n",
       "\n",
       "<text class=\"displacy-token\" fill=\"currentColor\" text-anchor=\"middle\" y=\"572.0\">\n",
       "    <tspan class=\"displacy-word\" fill=\"currentColor\" x=\"750\">hours</tspan>\n",
       "    <tspan class=\"displacy-tag\" dy=\"2em\" fill=\"currentColor\" x=\"750\">NOUN</tspan>\n",
       "</text>\n",
       "\n",
       "<text class=\"displacy-token\" fill=\"currentColor\" text-anchor=\"middle\" y=\"572.0\">\n",
       "    <tspan class=\"displacy-word\" fill=\"currentColor\" x=\"925\">are</tspan>\n",
       "    <tspan class=\"displacy-tag\" dy=\"2em\" fill=\"currentColor\" x=\"925\">AUX</tspan>\n",
       "</text>\n",
       "\n",
       "<text class=\"displacy-token\" fill=\"currentColor\" text-anchor=\"middle\" y=\"572.0\">\n",
       "    <tspan class=\"displacy-word\" fill=\"currentColor\" x=\"1100\">08.45</tspan>\n",
       "    <tspan class=\"displacy-tag\" dy=\"2em\" fill=\"currentColor\" x=\"1100\">NUM</tspan>\n",
       "</text>\n",
       "\n",
       "<text class=\"displacy-token\" fill=\"currentColor\" text-anchor=\"middle\" y=\"572.0\">\n",
       "    <tspan class=\"displacy-word\" fill=\"currentColor\" x=\"1275\">to</tspan>\n",
       "    <tspan class=\"displacy-tag\" dy=\"2em\" fill=\"currentColor\" x=\"1275\">ADP</tspan>\n",
       "</text>\n",
       "\n",
       "<text class=\"displacy-token\" fill=\"currentColor\" text-anchor=\"middle\" y=\"572.0\">\n",
       "    <tspan class=\"displacy-word\" fill=\"currentColor\" x=\"1450\">17.45</tspan>\n",
       "    <tspan class=\"displacy-tag\" dy=\"2em\" fill=\"currentColor\" x=\"1450\">NUM</tspan>\n",
       "</text>\n",
       "\n",
       "<text class=\"displacy-token\" fill=\"currentColor\" text-anchor=\"middle\" y=\"572.0\">\n",
       "    <tspan class=\"displacy-word\" fill=\"currentColor\" x=\"1625\">with</tspan>\n",
       "    <tspan class=\"displacy-tag\" dy=\"2em\" fill=\"currentColor\" x=\"1625\">ADP</tspan>\n",
       "</text>\n",
       "\n",
       "<text class=\"displacy-token\" fill=\"currentColor\" text-anchor=\"middle\" y=\"572.0\">\n",
       "    <tspan class=\"displacy-word\" fill=\"currentColor\" x=\"1800\">breaks,</tspan>\n",
       "    <tspan class=\"displacy-tag\" dy=\"2em\" fill=\"currentColor\" x=\"1800\">NOUN</tspan>\n",
       "</text>\n",
       "\n",
       "<text class=\"displacy-token\" fill=\"currentColor\" text-anchor=\"middle\" y=\"572.0\">\n",
       "    <tspan class=\"displacy-word\" fill=\"currentColor\" x=\"1975\">and</tspan>\n",
       "    <tspan class=\"displacy-tag\" dy=\"2em\" fill=\"currentColor\" x=\"1975\">CCONJ</tspan>\n",
       "</text>\n",
       "\n",
       "<text class=\"displacy-token\" fill=\"currentColor\" text-anchor=\"middle\" y=\"572.0\">\n",
       "    <tspan class=\"displacy-word\" fill=\"currentColor\" x=\"2150\">a</tspan>\n",
       "    <tspan class=\"displacy-tag\" dy=\"2em\" fill=\"currentColor\" x=\"2150\">DET</tspan>\n",
       "</text>\n",
       "\n",
       "<text class=\"displacy-token\" fill=\"currentColor\" text-anchor=\"middle\" y=\"572.0\">\n",
       "    <tspan class=\"displacy-word\" fill=\"currentColor\" x=\"2325\">one</tspan>\n",
       "    <tspan class=\"displacy-tag\" dy=\"2em\" fill=\"currentColor\" x=\"2325\">NUM</tspan>\n",
       "</text>\n",
       "\n",
       "<text class=\"displacy-token\" fill=\"currentColor\" text-anchor=\"middle\" y=\"572.0\">\n",
       "    <tspan class=\"displacy-word\" fill=\"currentColor\" x=\"2500\">hour</tspan>\n",
       "    <tspan class=\"displacy-tag\" dy=\"2em\" fill=\"currentColor\" x=\"2500\">NOUN</tspan>\n",
       "</text>\n",
       "\n",
       "<text class=\"displacy-token\" fill=\"currentColor\" text-anchor=\"middle\" y=\"572.0\">\n",
       "    <tspan class=\"displacy-word\" fill=\"currentColor\" x=\"2675\">lunch</tspan>\n",
       "    <tspan class=\"displacy-tag\" dy=\"2em\" fill=\"currentColor\" x=\"2675\">NOUN</tspan>\n",
       "</text>\n",
       "\n",
       "<text class=\"displacy-token\" fill=\"currentColor\" text-anchor=\"middle\" y=\"572.0\">\n",
       "    <tspan class=\"displacy-word\" fill=\"currentColor\" x=\"2850\">break</tspan>\n",
       "    <tspan class=\"displacy-tag\" dy=\"2em\" fill=\"currentColor\" x=\"2850\">NOUN</tspan>\n",
       "</text>\n",
       "\n",
       "<text class=\"displacy-token\" fill=\"currentColor\" text-anchor=\"middle\" y=\"572.0\">\n",
       "    <tspan class=\"displacy-word\" fill=\"currentColor\" x=\"3025\">3</tspan>\n",
       "    <tspan class=\"displacy-tag\" dy=\"2em\" fill=\"currentColor\" x=\"3025\">NUM</tspan>\n",
       "</text>\n",
       "\n",
       "<text class=\"displacy-token\" fill=\"currentColor\" text-anchor=\"middle\" y=\"572.0\">\n",
       "    <tspan class=\"displacy-word\" fill=\"currentColor\" x=\"3200\">days</tspan>\n",
       "    <tspan class=\"displacy-tag\" dy=\"2em\" fill=\"currentColor\" x=\"3200\">NOUN</tspan>\n",
       "</text>\n",
       "\n",
       "<text class=\"displacy-token\" fill=\"currentColor\" text-anchor=\"middle\" y=\"572.0\">\n",
       "    <tspan class=\"displacy-word\" fill=\"currentColor\" x=\"3375\">a</tspan>\n",
       "    <tspan class=\"displacy-tag\" dy=\"2em\" fill=\"currentColor\" x=\"3375\">DET</tspan>\n",
       "</text>\n",
       "\n",
       "<text class=\"displacy-token\" fill=\"currentColor\" text-anchor=\"middle\" y=\"572.0\">\n",
       "    <tspan class=\"displacy-word\" fill=\"currentColor\" x=\"3550\">week.</tspan>\n",
       "    <tspan class=\"displacy-tag\" dy=\"2em\" fill=\"currentColor\" x=\"3550\">NOUN</tspan>\n",
       "</text>\n",
       "\n",
       "<g class=\"displacy-arrow\">\n",
       "    <path class=\"displacy-arc\" id=\"arrow-85efc29c07074ac4b16c95ffddf790c3-0-0\" stroke-width=\"2px\" d=\"M70,527.0 C70,177.0 740.0,177.0 740.0,527.0\" fill=\"none\" stroke=\"currentColor\"/>\n",
       "    <text dy=\"1.25em\" style=\"font-size: 0.8em; letter-spacing: 1px\">\n",
       "        <textPath xlink:href=\"#arrow-85efc29c07074ac4b16c95ffddf790c3-0-0\" class=\"displacy-label\" startOffset=\"50%\" side=\"left\" fill=\"currentColor\" text-anchor=\"middle\">nummod</textPath>\n",
       "    </text>\n",
       "    <path class=\"displacy-arrowhead\" d=\"M70,529.0 L62,517.0 78,517.0\" fill=\"currentColor\"/>\n",
       "</g>\n",
       "\n",
       "<g class=\"displacy-arrow\">\n",
       "    <path class=\"displacy-arc\" id=\"arrow-85efc29c07074ac4b16c95ffddf790c3-0-1\" stroke-width=\"2px\" d=\"M245,527.0 C245,264.5 735.0,264.5 735.0,527.0\" fill=\"none\" stroke=\"currentColor\"/>\n",
       "    <text dy=\"1.25em\" style=\"font-size: 0.8em; letter-spacing: 1px\">\n",
       "        <textPath xlink:href=\"#arrow-85efc29c07074ac4b16c95ffddf790c3-0-1\" class=\"displacy-label\" startOffset=\"50%\" side=\"left\" fill=\"currentColor\" text-anchor=\"middle\">poss</textPath>\n",
       "    </text>\n",
       "    <path class=\"displacy-arrowhead\" d=\"M245,529.0 L237,517.0 253,517.0\" fill=\"currentColor\"/>\n",
       "</g>\n",
       "\n",
       "<g class=\"displacy-arrow\">\n",
       "    <path class=\"displacy-arc\" id=\"arrow-85efc29c07074ac4b16c95ffddf790c3-0-2\" stroke-width=\"2px\" d=\"M420,527.0 C420,352.0 730.0,352.0 730.0,527.0\" fill=\"none\" stroke=\"currentColor\"/>\n",
       "    <text dy=\"1.25em\" style=\"font-size: 0.8em; letter-spacing: 1px\">\n",
       "        <textPath xlink:href=\"#arrow-85efc29c07074ac4b16c95ffddf790c3-0-2\" class=\"displacy-label\" startOffset=\"50%\" side=\"left\" fill=\"currentColor\" text-anchor=\"middle\">amod</textPath>\n",
       "    </text>\n",
       "    <path class=\"displacy-arrowhead\" d=\"M420,529.0 L412,517.0 428,517.0\" fill=\"currentColor\"/>\n",
       "</g>\n",
       "\n",
       "<g class=\"displacy-arrow\">\n",
       "    <path class=\"displacy-arc\" id=\"arrow-85efc29c07074ac4b16c95ffddf790c3-0-3\" stroke-width=\"2px\" d=\"M595,527.0 C595,439.5 725.0,439.5 725.0,527.0\" fill=\"none\" stroke=\"currentColor\"/>\n",
       "    <text dy=\"1.25em\" style=\"font-size: 0.8em; letter-spacing: 1px\">\n",
       "        <textPath xlink:href=\"#arrow-85efc29c07074ac4b16c95ffddf790c3-0-3\" class=\"displacy-label\" startOffset=\"50%\" side=\"left\" fill=\"currentColor\" text-anchor=\"middle\">amod</textPath>\n",
       "    </text>\n",
       "    <path class=\"displacy-arrowhead\" d=\"M595,529.0 L587,517.0 603,517.0\" fill=\"currentColor\"/>\n",
       "</g>\n",
       "\n",
       "<g class=\"displacy-arrow\">\n",
       "    <path class=\"displacy-arc\" id=\"arrow-85efc29c07074ac4b16c95ffddf790c3-0-4\" stroke-width=\"2px\" d=\"M770,527.0 C770,439.5 900.0,439.5 900.0,527.0\" fill=\"none\" stroke=\"currentColor\"/>\n",
       "    <text dy=\"1.25em\" style=\"font-size: 0.8em; letter-spacing: 1px\">\n",
       "        <textPath xlink:href=\"#arrow-85efc29c07074ac4b16c95ffddf790c3-0-4\" class=\"displacy-label\" startOffset=\"50%\" side=\"left\" fill=\"currentColor\" text-anchor=\"middle\">nsubj</textPath>\n",
       "    </text>\n",
       "    <path class=\"displacy-arrowhead\" d=\"M770,529.0 L762,517.0 778,517.0\" fill=\"currentColor\"/>\n",
       "</g>\n",
       "\n",
       "<g class=\"displacy-arrow\">\n",
       "    <path class=\"displacy-arc\" id=\"arrow-85efc29c07074ac4b16c95ffddf790c3-0-5\" stroke-width=\"2px\" d=\"M945,527.0 C945,439.5 1075.0,439.5 1075.0,527.0\" fill=\"none\" stroke=\"currentColor\"/>\n",
       "    <text dy=\"1.25em\" style=\"font-size: 0.8em; letter-spacing: 1px\">\n",
       "        <textPath xlink:href=\"#arrow-85efc29c07074ac4b16c95ffddf790c3-0-5\" class=\"displacy-label\" startOffset=\"50%\" side=\"left\" fill=\"currentColor\" text-anchor=\"middle\">attr</textPath>\n",
       "    </text>\n",
       "    <path class=\"displacy-arrowhead\" d=\"M1075.0,529.0 L1083.0,517.0 1067.0,517.0\" fill=\"currentColor\"/>\n",
       "</g>\n",
       "\n",
       "<g class=\"displacy-arrow\">\n",
       "    <path class=\"displacy-arc\" id=\"arrow-85efc29c07074ac4b16c95ffddf790c3-0-6\" stroke-width=\"2px\" d=\"M945,527.0 C945,352.0 1255.0,352.0 1255.0,527.0\" fill=\"none\" stroke=\"currentColor\"/>\n",
       "    <text dy=\"1.25em\" style=\"font-size: 0.8em; letter-spacing: 1px\">\n",
       "        <textPath xlink:href=\"#arrow-85efc29c07074ac4b16c95ffddf790c3-0-6\" class=\"displacy-label\" startOffset=\"50%\" side=\"left\" fill=\"currentColor\" text-anchor=\"middle\">prep</textPath>\n",
       "    </text>\n",
       "    <path class=\"displacy-arrowhead\" d=\"M1255.0,529.0 L1263.0,517.0 1247.0,517.0\" fill=\"currentColor\"/>\n",
       "</g>\n",
       "\n",
       "<g class=\"displacy-arrow\">\n",
       "    <path class=\"displacy-arc\" id=\"arrow-85efc29c07074ac4b16c95ffddf790c3-0-7\" stroke-width=\"2px\" d=\"M1295,527.0 C1295,439.5 1425.0,439.5 1425.0,527.0\" fill=\"none\" stroke=\"currentColor\"/>\n",
       "    <text dy=\"1.25em\" style=\"font-size: 0.8em; letter-spacing: 1px\">\n",
       "        <textPath xlink:href=\"#arrow-85efc29c07074ac4b16c95ffddf790c3-0-7\" class=\"displacy-label\" startOffset=\"50%\" side=\"left\" fill=\"currentColor\" text-anchor=\"middle\">pobj</textPath>\n",
       "    </text>\n",
       "    <path class=\"displacy-arrowhead\" d=\"M1425.0,529.0 L1433.0,517.0 1417.0,517.0\" fill=\"currentColor\"/>\n",
       "</g>\n",
       "\n",
       "<g class=\"displacy-arrow\">\n",
       "    <path class=\"displacy-arc\" id=\"arrow-85efc29c07074ac4b16c95ffddf790c3-0-8\" stroke-width=\"2px\" d=\"M945,527.0 C945,177.0 1615.0,177.0 1615.0,527.0\" fill=\"none\" stroke=\"currentColor\"/>\n",
       "    <text dy=\"1.25em\" style=\"font-size: 0.8em; letter-spacing: 1px\">\n",
       "        <textPath xlink:href=\"#arrow-85efc29c07074ac4b16c95ffddf790c3-0-8\" class=\"displacy-label\" startOffset=\"50%\" side=\"left\" fill=\"currentColor\" text-anchor=\"middle\">prep</textPath>\n",
       "    </text>\n",
       "    <path class=\"displacy-arrowhead\" d=\"M1615.0,529.0 L1623.0,517.0 1607.0,517.0\" fill=\"currentColor\"/>\n",
       "</g>\n",
       "\n",
       "<g class=\"displacy-arrow\">\n",
       "    <path class=\"displacy-arc\" id=\"arrow-85efc29c07074ac4b16c95ffddf790c3-0-9\" stroke-width=\"2px\" d=\"M1645,527.0 C1645,439.5 1775.0,439.5 1775.0,527.0\" fill=\"none\" stroke=\"currentColor\"/>\n",
       "    <text dy=\"1.25em\" style=\"font-size: 0.8em; letter-spacing: 1px\">\n",
       "        <textPath xlink:href=\"#arrow-85efc29c07074ac4b16c95ffddf790c3-0-9\" class=\"displacy-label\" startOffset=\"50%\" side=\"left\" fill=\"currentColor\" text-anchor=\"middle\">pobj</textPath>\n",
       "    </text>\n",
       "    <path class=\"displacy-arrowhead\" d=\"M1775.0,529.0 L1783.0,517.0 1767.0,517.0\" fill=\"currentColor\"/>\n",
       "</g>\n",
       "\n",
       "<g class=\"displacy-arrow\">\n",
       "    <path class=\"displacy-arc\" id=\"arrow-85efc29c07074ac4b16c95ffddf790c3-0-10\" stroke-width=\"2px\" d=\"M945,527.0 C945,89.5 1970.0,89.5 1970.0,527.0\" fill=\"none\" stroke=\"currentColor\"/>\n",
       "    <text dy=\"1.25em\" style=\"font-size: 0.8em; letter-spacing: 1px\">\n",
       "        <textPath xlink:href=\"#arrow-85efc29c07074ac4b16c95ffddf790c3-0-10\" class=\"displacy-label\" startOffset=\"50%\" side=\"left\" fill=\"currentColor\" text-anchor=\"middle\">cc</textPath>\n",
       "    </text>\n",
       "    <path class=\"displacy-arrowhead\" d=\"M1970.0,529.0 L1978.0,517.0 1962.0,517.0\" fill=\"currentColor\"/>\n",
       "</g>\n",
       "\n",
       "<g class=\"displacy-arrow\">\n",
       "    <path class=\"displacy-arc\" id=\"arrow-85efc29c07074ac4b16c95ffddf790c3-0-11\" stroke-width=\"2px\" d=\"M2170,527.0 C2170,264.5 2660.0,264.5 2660.0,527.0\" fill=\"none\" stroke=\"currentColor\"/>\n",
       "    <text dy=\"1.25em\" style=\"font-size: 0.8em; letter-spacing: 1px\">\n",
       "        <textPath xlink:href=\"#arrow-85efc29c07074ac4b16c95ffddf790c3-0-11\" class=\"displacy-label\" startOffset=\"50%\" side=\"left\" fill=\"currentColor\" text-anchor=\"middle\">det</textPath>\n",
       "    </text>\n",
       "    <path class=\"displacy-arrowhead\" d=\"M2170,529.0 L2162,517.0 2178,517.0\" fill=\"currentColor\"/>\n",
       "</g>\n",
       "\n",
       "<g class=\"displacy-arrow\">\n",
       "    <path class=\"displacy-arc\" id=\"arrow-85efc29c07074ac4b16c95ffddf790c3-0-12\" stroke-width=\"2px\" d=\"M2345,527.0 C2345,439.5 2475.0,439.5 2475.0,527.0\" fill=\"none\" stroke=\"currentColor\"/>\n",
       "    <text dy=\"1.25em\" style=\"font-size: 0.8em; letter-spacing: 1px\">\n",
       "        <textPath xlink:href=\"#arrow-85efc29c07074ac4b16c95ffddf790c3-0-12\" class=\"displacy-label\" startOffset=\"50%\" side=\"left\" fill=\"currentColor\" text-anchor=\"middle\">nummod</textPath>\n",
       "    </text>\n",
       "    <path class=\"displacy-arrowhead\" d=\"M2345,529.0 L2337,517.0 2353,517.0\" fill=\"currentColor\"/>\n",
       "</g>\n",
       "\n",
       "<g class=\"displacy-arrow\">\n",
       "    <path class=\"displacy-arc\" id=\"arrow-85efc29c07074ac4b16c95ffddf790c3-0-13\" stroke-width=\"2px\" d=\"M2520,527.0 C2520,439.5 2650.0,439.5 2650.0,527.0\" fill=\"none\" stroke=\"currentColor\"/>\n",
       "    <text dy=\"1.25em\" style=\"font-size: 0.8em; letter-spacing: 1px\">\n",
       "        <textPath xlink:href=\"#arrow-85efc29c07074ac4b16c95ffddf790c3-0-13\" class=\"displacy-label\" startOffset=\"50%\" side=\"left\" fill=\"currentColor\" text-anchor=\"middle\">compound</textPath>\n",
       "    </text>\n",
       "    <path class=\"displacy-arrowhead\" d=\"M2520,529.0 L2512,517.0 2528,517.0\" fill=\"currentColor\"/>\n",
       "</g>\n",
       "\n",
       "<g class=\"displacy-arrow\">\n",
       "    <path class=\"displacy-arc\" id=\"arrow-85efc29c07074ac4b16c95ffddf790c3-0-14\" stroke-width=\"2px\" d=\"M2695,527.0 C2695,439.5 2825.0,439.5 2825.0,527.0\" fill=\"none\" stroke=\"currentColor\"/>\n",
       "    <text dy=\"1.25em\" style=\"font-size: 0.8em; letter-spacing: 1px\">\n",
       "        <textPath xlink:href=\"#arrow-85efc29c07074ac4b16c95ffddf790c3-0-14\" class=\"displacy-label\" startOffset=\"50%\" side=\"left\" fill=\"currentColor\" text-anchor=\"middle\">nsubj</textPath>\n",
       "    </text>\n",
       "    <path class=\"displacy-arrowhead\" d=\"M2695,529.0 L2687,517.0 2703,517.0\" fill=\"currentColor\"/>\n",
       "</g>\n",
       "\n",
       "<g class=\"displacy-arrow\">\n",
       "    <path class=\"displacy-arc\" id=\"arrow-85efc29c07074ac4b16c95ffddf790c3-0-15\" stroke-width=\"2px\" d=\"M945,527.0 C945,2.0 2850.0,2.0 2850.0,527.0\" fill=\"none\" stroke=\"currentColor\"/>\n",
       "    <text dy=\"1.25em\" style=\"font-size: 0.8em; letter-spacing: 1px\">\n",
       "        <textPath xlink:href=\"#arrow-85efc29c07074ac4b16c95ffddf790c3-0-15\" class=\"displacy-label\" startOffset=\"50%\" side=\"left\" fill=\"currentColor\" text-anchor=\"middle\">conj</textPath>\n",
       "    </text>\n",
       "    <path class=\"displacy-arrowhead\" d=\"M2850.0,529.0 L2858.0,517.0 2842.0,517.0\" fill=\"currentColor\"/>\n",
       "</g>\n",
       "\n",
       "<g class=\"displacy-arrow\">\n",
       "    <path class=\"displacy-arc\" id=\"arrow-85efc29c07074ac4b16c95ffddf790c3-0-16\" stroke-width=\"2px\" d=\"M3045,527.0 C3045,439.5 3175.0,439.5 3175.0,527.0\" fill=\"none\" stroke=\"currentColor\"/>\n",
       "    <text dy=\"1.25em\" style=\"font-size: 0.8em; letter-spacing: 1px\">\n",
       "        <textPath xlink:href=\"#arrow-85efc29c07074ac4b16c95ffddf790c3-0-16\" class=\"displacy-label\" startOffset=\"50%\" side=\"left\" fill=\"currentColor\" text-anchor=\"middle\">nummod</textPath>\n",
       "    </text>\n",
       "    <path class=\"displacy-arrowhead\" d=\"M3045,529.0 L3037,517.0 3053,517.0\" fill=\"currentColor\"/>\n",
       "</g>\n",
       "\n",
       "<g class=\"displacy-arrow\">\n",
       "    <path class=\"displacy-arc\" id=\"arrow-85efc29c07074ac4b16c95ffddf790c3-0-17\" stroke-width=\"2px\" d=\"M2870,527.0 C2870,352.0 3180.0,352.0 3180.0,527.0\" fill=\"none\" stroke=\"currentColor\"/>\n",
       "    <text dy=\"1.25em\" style=\"font-size: 0.8em; letter-spacing: 1px\">\n",
       "        <textPath xlink:href=\"#arrow-85efc29c07074ac4b16c95ffddf790c3-0-17\" class=\"displacy-label\" startOffset=\"50%\" side=\"left\" fill=\"currentColor\" text-anchor=\"middle\">npadvmod</textPath>\n",
       "    </text>\n",
       "    <path class=\"displacy-arrowhead\" d=\"M3180.0,529.0 L3188.0,517.0 3172.0,517.0\" fill=\"currentColor\"/>\n",
       "</g>\n",
       "\n",
       "<g class=\"displacy-arrow\">\n",
       "    <path class=\"displacy-arc\" id=\"arrow-85efc29c07074ac4b16c95ffddf790c3-0-18\" stroke-width=\"2px\" d=\"M3395,527.0 C3395,439.5 3525.0,439.5 3525.0,527.0\" fill=\"none\" stroke=\"currentColor\"/>\n",
       "    <text dy=\"1.25em\" style=\"font-size: 0.8em; letter-spacing: 1px\">\n",
       "        <textPath xlink:href=\"#arrow-85efc29c07074ac4b16c95ffddf790c3-0-18\" class=\"displacy-label\" startOffset=\"50%\" side=\"left\" fill=\"currentColor\" text-anchor=\"middle\">det</textPath>\n",
       "    </text>\n",
       "    <path class=\"displacy-arrowhead\" d=\"M3395,529.0 L3387,517.0 3403,517.0\" fill=\"currentColor\"/>\n",
       "</g>\n",
       "\n",
       "<g class=\"displacy-arrow\">\n",
       "    <path class=\"displacy-arc\" id=\"arrow-85efc29c07074ac4b16c95ffddf790c3-0-19\" stroke-width=\"2px\" d=\"M3220,527.0 C3220,352.0 3530.0,352.0 3530.0,527.0\" fill=\"none\" stroke=\"currentColor\"/>\n",
       "    <text dy=\"1.25em\" style=\"font-size: 0.8em; letter-spacing: 1px\">\n",
       "        <textPath xlink:href=\"#arrow-85efc29c07074ac4b16c95ffddf790c3-0-19\" class=\"displacy-label\" startOffset=\"50%\" side=\"left\" fill=\"currentColor\" text-anchor=\"middle\">npadvmod</textPath>\n",
       "    </text>\n",
       "    <path class=\"displacy-arrowhead\" d=\"M3530.0,529.0 L3538.0,517.0 3522.0,517.0\" fill=\"currentColor\"/>\n",
       "</g>\n",
       "</svg>\n",
       "</figure>\n",
       "</body>\n",
       "</html></span>"
      ],
      "text/plain": [
       "<IPython.core.display.HTML object>"
      ]
     },
     "metadata": {},
     "output_type": "display_data"
    },
    {
     "name": "stdout",
     "output_type": "stream",
     "text": [
      "\n",
      "Using the 'dep' visualizer\n",
      "Serving on http://0.0.0.0:5000 ...\n",
      "\n",
      "Shutting down server on port 5000.\n"
     ]
    }
   ],
   "source": [
    "displacy.serve(temp_doc, style=\"dep\")"
   ]
  },
  {
   "cell_type": "code",
   "execution_count": 15,
   "metadata": {},
   "outputs": [
    {
     "name": "stdout",
     "output_type": "stream",
     "text": [
      "08.45 to 17.45\n",
      "2019-10-13 08:45:00\n",
      "2019-10-13 17:45:00\n",
      "9.0\n",
      "08.45 to 17.45\n",
      "2019-10-13 08:45:00\n",
      "2019-10-13 17:45:00\n",
      "9.0\n",
      "8.45am to 5.3opm\n",
      "2019-10-13 08:45:00\n",
      "2019-10-13 17:30:00\n",
      "8.75\n",
      "08.45 to 17.45\n",
      "2019-10-13 08:45:00\n",
      "2019-10-13 17:45:00\n",
      "9.0\n",
      "08.45 to 17.45\n",
      "2019-10-13 08:45:00\n",
      "2019-10-13 17:45:00\n",
      "9.0\n",
      "08.45 to 17.45\n",
      "2019-10-13 08:45:00\n",
      "2019-10-13 17:45:00\n",
      "9.0\n",
      "0845 to 1745\n",
      "2019-10-13 08:45:00\n",
      "2019-10-13 17:45:00\n",
      "9.0\n",
      "08.45 to 17.45\n",
      "2019-10-13 08:45:00\n",
      "2019-10-13 17:45:00\n",
      "9.0\n",
      "08.45 to 17.45\n",
      "2019-10-13 08:45:00\n",
      "2019-10-13 17:45:00\n",
      "9.0\n",
      "08.45 to 17.45\n",
      "2019-10-13 08:45:00\n",
      "2019-10-13 17:45:00\n",
      "9.0\n",
      "08.45 to 17.45\n",
      "2019-10-13 08:45:00\n",
      "2019-10-13 17:45:00\n",
      "9.0\n",
      "0845 - 1745\n",
      "2019-10-13 08:45:00\n",
      "2019-10-13 17:45:00\n",
      "9.0\n",
      "08.45 to 17.45\n",
      "2019-10-13 08:45:00\n",
      "2019-10-13 17:45:00\n",
      "9.0\n",
      "08.45 to 17.45\n",
      "2019-10-13 08:45:00\n",
      "2019-10-13 17:45:00\n",
      "9.0\n",
      "08.45 to 17.45\n",
      "2019-10-13 08:45:00\n",
      "2019-10-13 17:45:00\n",
      "9.0\n",
      "08.45 to 12.45\n",
      "2019-10-13 08:45:00\n",
      "2019-10-13 12:45:00\n",
      "4.0\n",
      "09.00 to 18.00\n",
      "2019-10-13 09:00:00\n",
      "2019-10-13 18:00:00\n",
      "9.0\n",
      "10.30am - 7.00pm\n",
      "2019-10-13 10:30:00\n",
      "2019-10-13 19:00:00\n",
      "8.5\n",
      "8.00am - 4.30pm\n",
      "2019-10-13 08:00:00\n",
      "2019-10-13 16:30:00\n",
      "8.5\n",
      "08:00 - 18:00hrs\n",
      "2019-10-13 08:00:00\n",
      "2019-10-13 18:00:00\n",
      "10.0\n",
      "08.45 to 17.45\n",
      "2019-10-13 08:45:00\n",
      "2019-10-13 17:45:00\n",
      "9.0\n",
      "08:45am to 17:45pm\n",
      "2019-10-13 08:45:00\n",
      "2019-10-13 17:45:00\n",
      "9.0\n",
      "8.45am to 17.45pm\n",
      "2019-10-13 08:45:00\n",
      "2019-10-13 17:45:00\n",
      "9.0\n",
      "08.45 to 17.45\n",
      "2019-10-13 08:45:00\n",
      "2019-10-13 17:45:00\n",
      "9.0\n",
      "9:00 to 17:30\n",
      "2019-10-13 09:00:00\n",
      "2019-10-13 17:30:00\n",
      "8.5\n",
      "08.45 to 17.30\n",
      "2019-10-13 08:45:00\n",
      "2019-10-13 17:30:00\n",
      "8.75\n",
      "08:00 - 18:00hrs\n",
      "2019-10-13 08:00:00\n",
      "2019-10-13 18:00:00\n",
      "10.0\n",
      "08.45 to 17.30\n",
      "2019-10-13 08:45:00\n",
      "2019-10-13 17:30:00\n",
      "8.75\n",
      "08:00 - 18:00hrs\n",
      "2019-10-13 08:00:00\n",
      "2019-10-13 18:00:00\n",
      "10.0\n",
      "08:00 - 18:00hrs\n",
      "2019-10-13 08:00:00\n",
      "2019-10-13 18:00:00\n",
      "10.0\n",
      "08:00 - 18:00hrs\n",
      "2019-10-13 08:00:00\n",
      "2019-10-13 18:00:00\n",
      "10.0\n",
      "08:00 - 18:00hrs\n",
      "2019-10-13 08:00:00\n",
      "2019-10-13 18:00:00\n",
      "10.0\n"
     ]
    }
   ],
   "source": [
    "for temp_doc in docs:\n",
    "    for e in temp_doc.ents:\n",
    "        if e.ent_id_ == \"hours_range\":\n",
    "            print(e),\n",
    "            print(wf.convert_time(e[0])),\n",
    "            print(wf.convert_time(e[2]))\n",
    "            print(wf.calc_hours(e))"
   ]
  },
  {
   "cell_type": "code",
   "execution_count": 16,
   "metadata": {},
   "outputs": [],
   "source": [
    "for doc in docs:\n",
    "    for e in temp_doc.ents:\n",
    "        if e.ent_id_ == \"hours_range\":\n",
    "            print(e,e[0].head,e.ent_id_)"
   ]
  },
  {
   "cell_type": "code",
   "execution_count": 17,
   "metadata": {},
   "outputs": [
    {
     "data": {
      "text/html": [
       "<span class=\"tex2jax_ignore\"><svg xmlns=\"http://www.w3.org/2000/svg\" xmlns:xlink=\"http://www.w3.org/1999/xlink\" xml:lang=\"en\" id=\"d503d44215f747c9b21815a49ae8835b-0\" class=\"displacy\" width=\"225\" height=\"137.0\" direction=\"ltr\" style=\"max-width: none; height: 137.0px; color: #000000; background: #ffffff; font-family: Arial; direction: ltr\">\n",
       "<text class=\"displacy-token\" fill=\"currentColor\" text-anchor=\"middle\" y=\"47.0\">\n",
       "    <tspan class=\"displacy-word\" fill=\"currentColor\" x=\"50\">None</tspan>\n",
       "    <tspan class=\"displacy-tag\" dy=\"2em\" fill=\"currentColor\" x=\"50\">NOUN</tspan>\n",
       "</text>\n",
       "</svg></span>"
      ],
      "text/plain": [
       "<IPython.core.display.HTML object>"
      ]
     },
     "metadata": {},
     "output_type": "display_data"
    }
   ],
   "source": [
    "from spacy import displacy\n",
    "displacy.render(temp_doc, style='dep')"
   ]
  },
  {
   "cell_type": "code",
   "execution_count": 18,
   "metadata": {},
   "outputs": [
    {
     "ename": "IndexError",
     "evalue": "tuple index out of range",
     "output_type": "error",
     "traceback": [
      "\u001b[1;31m---------------------------------------------------------------------------\u001b[0m",
      "\u001b[1;31mIndexError\u001b[0m                                Traceback (most recent call last)",
      "\u001b[1;32m<ipython-input-18-ba6f5ba71f5a>\u001b[0m in \u001b[0;36m<module>\u001b[1;34m\u001b[0m\n\u001b[1;32m----> 1\u001b[1;33m \u001b[0mtemp_doc\u001b[0m\u001b[1;33m.\u001b[0m\u001b[0ments\u001b[0m\u001b[1;33m[\u001b[0m\u001b[1;36m0\u001b[0m\u001b[1;33m]\u001b[0m\u001b[1;33m\u001b[0m\u001b[1;33m\u001b[0m\u001b[0m\n\u001b[0m",
      "\u001b[1;31mIndexError\u001b[0m: tuple index out of range"
     ]
    }
   ],
   "source": [
    "temp_doc.ents[0]\n"
   ]
  },
  {
   "cell_type": "code",
   "execution_count": null,
   "metadata": {},
   "outputs": [],
   "source": [
    "round((convert_time(temp_doc.ents[2][2]) - convert_time(temp_doc.ents[2][0])).seconds/3600,2)"
   ]
  },
  {
   "cell_type": "code",
   "execution_count": null,
   "metadata": {},
   "outputs": [],
   "source": [
    "print(temp_doc.ents[2][0].head)"
   ]
  },
  {
   "cell_type": "code",
   "execution_count": null,
   "metadata": {},
   "outputs": [],
   "source": [
    "nlp(train_raw['Times [Extract]'][2])"
   ]
  },
  {
   "cell_type": "code",
   "execution_count": null,
   "metadata": {},
   "outputs": [],
   "source": [
    "train_raw['Times [Extract]'][1]"
   ]
  },
  {
   "cell_type": "code",
   "execution_count": null,
   "metadata": {},
   "outputs": [],
   "source": [
    "train_raw[train_raw['Days per week specified'].fillna(0) != pd.Series(preds).fillna(0)][['Times [Extract]','Days per week specified',\"preds\"]]"
   ]
  },
  {
   "cell_type": "code",
   "execution_count": null,
   "metadata": {},
   "outputs": [],
   "source": [
    "doc = next(docs)\n",
    "print(doc)"
   ]
  },
  {
   "cell_type": "code",
   "execution_count": null,
   "metadata": {},
   "outputs": [],
   "source": [
    "train_raw[\"preds\"] = preds"
   ]
  },
  {
   "cell_type": "code",
   "execution_count": null,
   "metadata": {},
   "outputs": [],
   "source": []
  }
 ],
 "metadata": {
  "kernelspec": {
   "display_name": "Python 3",
   "language": "python",
   "name": "python3"
  },
  "language_info": {
   "codemirror_mode": {
    "name": "ipython",
    "version": 3
   },
   "file_extension": ".py",
   "mimetype": "text/x-python",
   "name": "python",
   "nbconvert_exporter": "python",
   "pygments_lexer": "ipython3",
   "version": "3.8.5"
  }
 },
 "nbformat": 4,
 "nbformat_minor": 4
}
